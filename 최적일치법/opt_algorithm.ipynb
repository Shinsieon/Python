{
 "cells": [
  {
   "cell_type": "code",
   "execution_count": 1,
   "metadata": {},
   "outputs": [],
   "source": [
    "import pandas as pd\n",
    "from scipy.optimize import minimize\n",
    "import numpy as np\n",
    "from scipy.spatial import distance\n",
    "\n",
    "result= []\n",
    "indel_cost = 1\n",
    "substitution_cost = pd.DataFrame(columns = [\"A\",\"B\",\"C\",\"D\",\"NA\"], index=[\"A\",\"B\",\"C\",\"D\",\"NA\"],\n",
    "                               data=np.array([[0,2,2,2,2],[2,0,2,2,2], [2,2,0,2,2],[2,2,2,0,2],[2,2,2,2,0]]))\n",
    "x1 = [\"A\",\"A\",\"A\",\"NA\",\"A\"]\n",
    "x2 = [\"A\",\"A\",\"A\",\"A\",\"C\"]\n",
    "x3 = [\"A\",\"A\",\"A\",\"D\",\"D\"]\n",
    "x4 = [\"A\",\"A\",\"A\",\"A\",\"A\"]\n",
    "x5 = [\"A\",\"A\",\"A\",\"D\",\"D\"]\n",
    "x6 = [\"A\",\"A\",\"A\",\"NA\",\"A\"]\n",
    "x7 = [\"A\",\"A\",\"A\",\"A\",\"A\"]\n",
    "x8 = [\"A\",\"A\",\"NA\",\"A\",\"A\"]\n",
    "x9 = [\"A\",\"A\",\"A\",\"C\",\"NA\"]\n",
    "x10 = [\"B\",\"NA\",\"B\",\"B\",\"C\"]\n",
    "x11 = [\"A\",\"NA\",\"A\",\"A\",\"A\"]\n",
    "x12 = [\"B\",\"A\",\"A\",\"B\",\"B\"]\n",
    "def opt_match(df):\n",
    "    for i in range(6):\n",
    "        df.iloc[0][i] = indel_cost*i\n",
    "        df.iloc[i][0] = indel_cost*i\n",
    "    for i in range(1,6):\n",
    "        for j in range(1,6):\n",
    "            df.iloc[i][j] = np.min([df.iloc[i][j-1]+1,df.iloc[i-1][j]+1, df.iloc[i-1][j-1]+substitution_cost[df.columns[j]][df.index[i]]])   \n",
    "        opt_cost = df.iloc[i][j]\n",
    "    return opt_cost\n",
    "for i in range(1,13):\n",
    "    globals()['x{}'.format(i)].insert(0,'-')\n",
    "    \n",
    "for i in range(1,13):\n",
    "    for j in range(1,13-i):\n",
    "        sample_1 = globals()['x{}'.format(i)]\n",
    "        sample_2 = globals()['x{}'.format(i+j)]\n",
    "        df= pd.DataFrame(columns = sample_1, index=sample_2, data=np.ones([len(sample_1),len(sample_2)]))\n",
    "        dict = {'pair' : [i,i+j], 'opt_cost': opt_match(df)}\n",
    "        result.append(dict)\n",
    "\n",
    "\n",
    "\n",
    "distance_matrix = distance.squareform([result[x]['opt_cost'] for x in range(len(result))])"
   ]
  },
  {
   "cell_type": "code",
   "execution_count": 2,
   "metadata": {},
   "outputs": [
    {
     "data": {
      "text/plain": [
       "array([[ 0.,  2.,  4.,  2.,  4.,  0.,  2.,  2.,  2.,  8.,  2.,  6.],\n",
       "       [ 2.,  0.,  4.,  2.,  4.,  2.,  2.,  2.,  2.,  8.,  2.,  6.],\n",
       "       [ 4.,  4.,  0.,  4.,  0.,  4.,  4.,  4.,  4., 10.,  4.,  6.],\n",
       "       [ 2.,  2.,  4.,  0.,  4.,  2.,  0.,  2.,  4., 10.,  2.,  6.],\n",
       "       [ 4.,  4.,  0.,  4.,  0.,  4.,  4.,  4.,  4., 10.,  4.,  6.],\n",
       "       [ 0.,  2.,  4.,  2.,  4.,  0.,  2.,  2.,  2.,  8.,  2.,  6.],\n",
       "       [ 2.,  2.,  4.,  0.,  4.,  2.,  0.,  2.,  4., 10.,  2.,  6.],\n",
       "       [ 2.,  2.,  4.,  2.,  4.,  2.,  2.,  0.,  4.,  8.,  2.,  6.],\n",
       "       [ 2.,  2.,  4.,  4.,  4.,  2.,  4.,  4.,  0.,  8.,  4.,  6.],\n",
       "       [ 8.,  8., 10., 10., 10.,  8., 10.,  8.,  8.,  0.,  8.,  4.],\n",
       "       [ 2.,  2.,  4.,  2.,  4.,  2.,  2.,  2.,  4.,  8.,  0.,  6.],\n",
       "       [ 6.,  6.,  6.,  6.,  6.,  6.,  6.,  6.,  6.,  4.,  6.,  0.]])"
      ]
     },
     "execution_count": 2,
     "metadata": {},
     "output_type": "execute_result"
    }
   ],
   "source": [
    "distance_matrix"
   ]
  },
  {
   "cell_type": "code",
   "execution_count": 17,
   "metadata": {},
   "outputs": [
    {
     "data": {
      "text/plain": [
       "[0, 0, 0, 2, 0, 0, 0, 0, 2, 0, 0, 0, 0, 2, 0, 0, 0, 0, 2, 0, 2, 2, 2, 2, 2]"
      ]
     },
     "execution_count": 17,
     "metadata": {},
     "output_type": "execute_result"
    }
   ],
   "source": [
    "row_arr = [0,1,2,3,4,5]\n",
    "x1 = [\"A\",\"A\",\"A\",\"NA\",\"A\"]\n",
    "x2 = [\"A\",\"A\",\"A\",\"A\",\"C\"]\n",
    "sub_arr =[]\n",
    "for i in range(len(x1)):\n",
    "    for j in range(len(x2)):\n",
    "        if x1[j]!=x2[i]:\n",
    "            sub_arr.append(2)\n",
    "        else:\n",
    "            sub_arr.append(0)\n",
    "        n_arr = [1]\n",
    "        n_arr.append(row_arr[j]+)\n",
    "sub_arr\n"
   ]
  },
  {
   "cell_type": "code",
   "execution_count": 15,
   "metadata": {},
   "outputs": [
    {
     "data": {
      "text/plain": [
       "1"
      ]
     },
     "execution_count": 15,
     "metadata": {},
     "output_type": "execute_result"
    }
   ],
   "source": [
    "a= [[1,2,3],[2,4,5],[2,4,4]]\n",
    "a[0][0]"
   ]
  }
 ],
 "metadata": {
  "kernelspec": {
   "display_name": "Python 3",
   "language": "python",
   "name": "python3"
  },
  "language_info": {
   "codemirror_mode": {
    "name": "ipython",
    "version": 3
   },
   "file_extension": ".py",
   "mimetype": "text/x-python",
   "name": "python",
   "nbconvert_exporter": "python",
   "pygments_lexer": "ipython3",
   "version": "3.8.3"
  }
 },
 "nbformat": 4,
 "nbformat_minor": 4
}
