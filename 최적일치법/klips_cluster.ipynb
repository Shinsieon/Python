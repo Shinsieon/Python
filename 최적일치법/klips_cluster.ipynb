{
 "cells": [
  {
   "cell_type": "code",
   "execution_count": 5,
   "metadata": {},
   "outputs": [],
   "source": [
    "import pandas as pd\n",
    "import numpy as np\n",
    "import scipy.cluster\n",
    "from scipy.spatial.distance import pdist\n",
    "from matplotlib import pyplot as plt\n",
    "import fastcluster"
   ]
  },
  {
   "cell_type": "code",
   "execution_count": 6,
   "metadata": {},
   "outputs": [
    {
     "data": {
      "text/plain": [
       "(100, 100)"
      ]
     },
     "execution_count": 6,
     "metadata": {},
     "output_type": "execute_result"
    }
   ],
   "source": [
    "dm = pd.read_csv('distance_matrix(100).csv', encoding='utf-8')\n",
    "income = pd.read_csv('income_labeling.csv', encoding='utf-8').head(100)\n",
    "data = income.iloc[:,2:].values\n",
    "del dm['Unnamed: 0']\n",
    "dm.values.shape"
   ]
  },
  {
   "cell_type": "code",
   "execution_count": 18,
   "metadata": {},
   "outputs": [
    {
     "data": {
      "text/plain": [
       "array([4, 4, 2, 4, 1, 4, 4, 3, 4, 4, 4, 1, 2, 4, 4, 3, 2, 4, 4, 2, 1, 4,\n",
       "       1, 1, 4, 1, 2, 4, 3, 4, 1, 3, 3, 3, 1, 4, 3, 3, 1, 2, 1, 4, 1, 3,\n",
       "       3, 4, 3, 3, 4, 4, 2, 3, 1, 3, 4, 3, 3, 1, 4, 4, 3, 3, 2, 2, 3, 3,\n",
       "       4, 1, 4, 4, 1, 3, 3, 4, 3, 1, 3, 1, 3, 1, 2, 4, 4, 2, 1, 3, 3, 1,\n",
       "       2, 2, 3, 3, 1, 4, 2, 2, 4, 2, 1, 1], dtype=int32)"
      ]
     },
     "execution_count": 18,
     "metadata": {},
     "output_type": "execute_result"
    }
   ],
   "source": [
    "clustering = fastcluster.ward(dm)\n",
    "#scipy.cluster.hierarchy.dendrogram(clustering)\n",
    "assignments = scipy.cluster.hierarchy.fcluster(clustering, 170, criterion=\"distance\")\n",
    "\n",
    "assignments"
   ]
  },
  {
   "cell_type": "code",
   "execution_count": 26,
   "metadata": {},
   "outputs": [
    {
     "data": {
      "text/html": [
       "<div>\n",
       "<style scoped>\n",
       "    .dataframe tbody tr th:only-of-type {\n",
       "        vertical-align: middle;\n",
       "    }\n",
       "\n",
       "    .dataframe tbody tr th {\n",
       "        vertical-align: top;\n",
       "    }\n",
       "\n",
       "    .dataframe thead th {\n",
       "        text-align: right;\n",
       "    }\n",
       "</style>\n",
       "<table border=\"1\" class=\"dataframe\">\n",
       "  <thead>\n",
       "    <tr style=\"text-align: right;\">\n",
       "      <th></th>\n",
       "      <th>row label 1</th>\n",
       "      <th>row label 2</th>\n",
       "      <th>distance</th>\n",
       "      <th>no</th>\n",
       "    </tr>\n",
       "  </thead>\n",
       "  <tbody>\n",
       "    <tr>\n",
       "      <th>cluster 1</th>\n",
       "      <td>29.0</td>\n",
       "      <td>35.0</td>\n",
       "      <td>9.364694</td>\n",
       "      <td>2.0</td>\n",
       "    </tr>\n",
       "    <tr>\n",
       "      <th>cluster 2</th>\n",
       "      <td>13.0</td>\n",
       "      <td>27.0</td>\n",
       "      <td>10.343839</td>\n",
       "      <td>2.0</td>\n",
       "    </tr>\n",
       "    <tr>\n",
       "      <th>cluster 3</th>\n",
       "      <td>41.0</td>\n",
       "      <td>54.0</td>\n",
       "      <td>10.703504</td>\n",
       "      <td>2.0</td>\n",
       "    </tr>\n",
       "    <tr>\n",
       "      <th>cluster 4</th>\n",
       "      <td>59.0</td>\n",
       "      <td>100.0</td>\n",
       "      <td>10.922874</td>\n",
       "      <td>3.0</td>\n",
       "    </tr>\n",
       "    <tr>\n",
       "      <th>cluster 5</th>\n",
       "      <td>38.0</td>\n",
       "      <td>40.0</td>\n",
       "      <td>12.766950</td>\n",
       "      <td>2.0</td>\n",
       "    </tr>\n",
       "    <tr>\n",
       "      <th>...</th>\n",
       "      <td>...</td>\n",
       "      <td>...</td>\n",
       "      <td>...</td>\n",
       "      <td>...</td>\n",
       "    </tr>\n",
       "    <tr>\n",
       "      <th>cluster 95</th>\n",
       "      <td>189.0</td>\n",
       "      <td>190.0</td>\n",
       "      <td>157.186785</td>\n",
       "      <td>29.0</td>\n",
       "    </tr>\n",
       "    <tr>\n",
       "      <th>cluster 96</th>\n",
       "      <td>177.0</td>\n",
       "      <td>191.0</td>\n",
       "      <td>162.402060</td>\n",
       "      <td>32.0</td>\n",
       "    </tr>\n",
       "    <tr>\n",
       "      <th>cluster 97</th>\n",
       "      <td>192.0</td>\n",
       "      <td>193.0</td>\n",
       "      <td>199.801342</td>\n",
       "      <td>39.0</td>\n",
       "    </tr>\n",
       "    <tr>\n",
       "      <th>cluster 98</th>\n",
       "      <td>194.0</td>\n",
       "      <td>195.0</td>\n",
       "      <td>332.953007</td>\n",
       "      <td>61.0</td>\n",
       "    </tr>\n",
       "    <tr>\n",
       "      <th>cluster 99</th>\n",
       "      <td>196.0</td>\n",
       "      <td>197.0</td>\n",
       "      <td>559.952423</td>\n",
       "      <td>100.0</td>\n",
       "    </tr>\n",
       "  </tbody>\n",
       "</table>\n",
       "<p>99 rows × 4 columns</p>\n",
       "</div>"
      ],
      "text/plain": [
       "            row label 1  row label 2    distance     no\n",
       "cluster 1          29.0         35.0    9.364694    2.0\n",
       "cluster 2          13.0         27.0   10.343839    2.0\n",
       "cluster 3          41.0         54.0   10.703504    2.0\n",
       "cluster 4          59.0        100.0   10.922874    3.0\n",
       "cluster 5          38.0         40.0   12.766950    2.0\n",
       "...                 ...          ...         ...    ...\n",
       "cluster 95        189.0        190.0  157.186785   29.0\n",
       "cluster 96        177.0        191.0  162.402060   32.0\n",
       "cluster 97        192.0        193.0  199.801342   39.0\n",
       "cluster 98        194.0        195.0  332.953007   61.0\n",
       "cluster 99        196.0        197.0  559.952423  100.0\n",
       "\n",
       "[99 rows x 4 columns]"
      ]
     },
     "execution_count": 26,
     "metadata": {},
     "output_type": "execute_result"
    }
   ],
   "source": [
    "Z = linkage(pdist(dm), method='ward', metric='euclidean')\n",
    "pd.DataFrame(Z, columns=['row label 1','row label 2','distance','no'],\n",
    "            index = ['cluster %d' % (i+1) for i in range(Z.shape[0])])"
   ]
  },
  {
   "cell_type": "code",
   "execution_count": 4,
   "metadata": {},
   "outputs": [
    {
     "data": {
      "text/plain": [
       "16"
      ]
     },
     "execution_count": 4,
     "metadata": {},
     "output_type": "execute_result"
    }
   ],
   "source": [
    "arr_ = []\n",
    "arr_.append([arr[x][0] for x in range(len(arr))])\n",
    "cnt=0\n",
    "for i in arr_[0]:\n",
    "    if i==1:\n",
    "        cnt = cnt+1\n",
    "cnt"
   ]
  },
  {
   "cell_type": "code",
   "execution_count": 5,
   "metadata": {},
   "outputs": [
    {
     "name": "stderr",
     "output_type": "stream",
     "text": [
      "<ipython-input-5-2c602f604878>:5: ClusterWarning: scipy.cluster: The symmetric non-negative hollow observation matrix looks suspiciously like an uncondensed distance matrix\n",
      "  dend = shc.dendrogram(shc.linkage(dm.values, method='ward'))\n"
     ]
    },
    {
     "data": {
      "image/png": "[encoded data removed]",
      "text/plain": [
       "<Figure size 720x504 with 1 Axes>"
      ]
     },
     "metadata": {
      "needs_background": "light"
     },
     "output_type": "display_data"
    }
   ],
   "source": [
    "import scipy.cluster.hierarchy as shc\n",
    "\n",
    "plt.figure(figsize=(10, 7))\n",
    "plt.title(\"Customer Dendograms\")\n",
    "dend = shc.dendrogram(shc.linkage(dm.values, method='ward'))"
   ]
  },
  {
   "cell_type": "code",
   "execution_count": 13,
   "metadata": {},
   "outputs": [
    {
     "data": {
      "text/plain": [
       "array([[1, 2, 1, ..., 2, 2, 2],\n",
       "       [1, 1, 1, ..., 2, 2, 2],\n",
       "       [4, 4, 5, ..., 7, 7, 7],\n",
       "       ...,\n",
       "       [5, 5, 6, ..., 4, 4, 7],\n",
       "       [4, 4, 4, ..., 4, 4, 4],\n",
       "       [3, 3, 4, ..., 4, 5, 5]], dtype=int64)"
      ]
     },
     "execution_count": 13,
     "metadata": {},
     "output_type": "execute_result"
    }
   ],
   "source": [
    "data"
   ]
  },
  {
   "cell_type": "code",
   "execution_count": 6,
   "metadata": {},
   "outputs": [
    {
     "data": {
      "text/plain": [
       "array([0, 0, 1, 0, 2, 0, 0, 0, 0, 0, 0, 2, 1, 0, 0, 2, 3, 0, 0, 1, 2, 0,\n",
       "       2, 2, 0, 2, 1, 0, 0, 0, 2, 0, 0, 0, 2, 0, 0, 0, 2, 1, 2, 0, 2, 0,\n",
       "       0, 0, 0, 0, 0, 0, 1, 0, 2, 0, 0, 0, 0, 2, 0, 0, 0, 0, 1, 1, 0, 0,\n",
       "       0, 2, 0, 0, 2, 0, 0, 0, 0, 2, 0, 1, 0, 2, 3, 0, 0, 1, 2, 0, 0, 2,\n",
       "       1, 1, 0, 0, 2, 0, 3, 3, 0, 2, 2, 2], dtype=int64)"
      ]
     },
     "execution_count": 6,
     "metadata": {},
     "output_type": "execute_result"
    }
   ],
   "source": [
    "from sklearn.cluster import AgglomerativeClustering\n",
    "\n",
    "cluster = AgglomerativeClustering(n_clusters=4, affinity='euclidean', linkage='ward')\n",
    "ad_dm= cluster.fit_predict(data)\n",
    "ad_dm"
   ]
  },
  {
   "cell_type": "code",
   "execution_count": 7,
   "metadata": {},
   "outputs": [
    {
     "data": {
      "text/plain": [
       "60"
      ]
     },
     "execution_count": 7,
     "metadata": {},
     "output_type": "execute_result"
    }
   ],
   "source": [
    "Y = pdist(data)\n",
    "Z = ward(Y)\n",
    "cl_array = fcluster(Z, 24, criterion='distance')\n",
    "cl_array\n",
    "cnt=0\n",
    "for i in cl_array:\n",
    "    if i==1:\n",
    "        cnt = cnt+1\n",
    "cnt"
   ]
  },
  {
   "cell_type": "code",
   "execution_count": 8,
   "metadata": {},
   "outputs": [
    {
     "data": {
      "text/plain": [
       "array([4, 4, 2, 4, 1, 4, 4, 3, 4, 4, 4, 1, 2, 4, 4, 3, 2, 4, 4, 2, 1, 4,\n",
       "       1, 1, 4, 1, 2, 4, 3, 4, 1, 3, 3, 3, 1, 4, 3, 3, 1, 2, 1, 4, 1, 3,\n",
       "       3, 4, 3, 3, 4, 4, 2, 3, 1, 3, 4, 3, 3, 1, 4, 4, 3, 3, 2, 2, 3, 3,\n",
       "       4, 1, 4, 4, 1, 3, 3, 4, 3, 1, 3, 1, 3, 1, 2, 4, 4, 2, 1, 3, 3, 1,\n",
       "       2, 2, 3, 3, 1, 4, 2, 2, 4, 2, 1, 1], dtype=int32)"
      ]
     },
     "execution_count": 8,
     "metadata": {},
     "output_type": "execute_result"
    }
   ],
   "source": [
    "Y = pdist(dm)\n",
    "Z = ward(Y)\n",
    "cl_array = fcluster(Z, 170, criterion='distance')\n",
    "cl_array"
   ]
  },
  {
   "cell_type": "code",
   "execution_count": 9,
   "metadata": {},
   "outputs": [
    {
     "data": {
      "text/html": [
       "<div>\n",
       "<style scoped>\n",
       "    .dataframe tbody tr th:only-of-type {\n",
       "        vertical-align: middle;\n",
       "    }\n",
       "\n",
       "    .dataframe tbody tr th {\n",
       "        vertical-align: top;\n",
       "    }\n",
       "\n",
       "    .dataframe thead th {\n",
       "        text-align: right;\n",
       "    }\n",
       "</style>\n",
       "<table border=\"1\" class=\"dataframe\">\n",
       "  <thead>\n",
       "    <tr style=\"text-align: right;\">\n",
       "      <th></th>\n",
       "      <th>pid</th>\n",
       "      <th>p061703</th>\n",
       "      <th>p071703</th>\n",
       "      <th>p081703</th>\n",
       "      <th>p091703</th>\n",
       "      <th>p101703</th>\n",
       "      <th>p111703</th>\n",
       "      <th>p121703</th>\n",
       "      <th>p131703</th>\n",
       "      <th>p141703</th>\n",
       "      <th>p151703</th>\n",
       "      <th>p161703</th>\n",
       "      <th>p171703</th>\n",
       "      <th>p181703</th>\n",
       "      <th>p191703</th>\n",
       "      <th>p201703</th>\n",
       "      <th>p211703</th>\n",
       "    </tr>\n",
       "  </thead>\n",
       "  <tbody>\n",
       "    <tr>\n",
       "      <th>0</th>\n",
       "      <td>201</td>\n",
       "      <td>500.0</td>\n",
       "      <td>720.0</td>\n",
       "      <td>840.0</td>\n",
       "      <td>1080.0</td>\n",
       "      <td>960.0</td>\n",
       "      <td>1200.0</td>\n",
       "      <td>1000.0</td>\n",
       "      <td>560.0</td>\n",
       "      <td>1088.0</td>\n",
       "      <td>1032.0</td>\n",
       "      <td>1220.0</td>\n",
       "      <td>1272.0</td>\n",
       "      <td>1310.0</td>\n",
       "      <td>1190.0</td>\n",
       "      <td>1550.0</td>\n",
       "      <td>1550.0</td>\n",
       "    </tr>\n",
       "    <tr>\n",
       "      <th>1</th>\n",
       "      <td>202</td>\n",
       "      <td>600.0</td>\n",
       "      <td>648.0</td>\n",
       "      <td>660.0</td>\n",
       "      <td>660.0</td>\n",
       "      <td>660.0</td>\n",
       "      <td>684.0</td>\n",
       "      <td>610.0</td>\n",
       "      <td>630.0</td>\n",
       "      <td>716.0</td>\n",
       "      <td>795.0</td>\n",
       "      <td>920.0</td>\n",
       "      <td>936.0</td>\n",
       "      <td>900.0</td>\n",
       "      <td>1090.0</td>\n",
       "      <td>1140.0</td>\n",
       "      <td>1134.0</td>\n",
       "    </tr>\n",
       "    <tr>\n",
       "      <th>2</th>\n",
       "      <td>401</td>\n",
       "      <td>2900.0</td>\n",
       "      <td>3800.0</td>\n",
       "      <td>3840.0</td>\n",
       "      <td>3860.0</td>\n",
       "      <td>4008.0</td>\n",
       "      <td>4008.0</td>\n",
       "      <td>3600.0</td>\n",
       "      <td>4800.0</td>\n",
       "      <td>5400.0</td>\n",
       "      <td>4800.0</td>\n",
       "      <td>6000.0</td>\n",
       "      <td>6000.0</td>\n",
       "      <td>6000.0</td>\n",
       "      <td>6000.0</td>\n",
       "      <td>6000.0</td>\n",
       "      <td>6000.0</td>\n",
       "    </tr>\n",
       "    <tr>\n",
       "      <th>3</th>\n",
       "      <td>402</td>\n",
       "      <td>720.0</td>\n",
       "      <td>1000.0</td>\n",
       "      <td>500.0</td>\n",
       "      <td>2960.0</td>\n",
       "      <td>1080.0</td>\n",
       "      <td>1080.0</td>\n",
       "      <td>1200.0</td>\n",
       "      <td>960.0</td>\n",
       "      <td>600.0</td>\n",
       "      <td>960.0</td>\n",
       "      <td>960.0</td>\n",
       "      <td>960.0</td>\n",
       "      <td>960.0</td>\n",
       "      <td>960.0</td>\n",
       "      <td>960.0</td>\n",
       "      <td>960.0</td>\n",
       "    </tr>\n",
       "    <tr>\n",
       "      <th>4</th>\n",
       "      <td>902</td>\n",
       "      <td>2640.0</td>\n",
       "      <td>2760.0</td>\n",
       "      <td>2904.0</td>\n",
       "      <td>3356.0</td>\n",
       "      <td>2916.0</td>\n",
       "      <td>2950.0</td>\n",
       "      <td>3800.0</td>\n",
       "      <td>3600.0</td>\n",
       "      <td>4100.0</td>\n",
       "      <td>3200.0</td>\n",
       "      <td>5500.0</td>\n",
       "      <td>3400.0</td>\n",
       "      <td>5500.0</td>\n",
       "      <td>4800.0</td>\n",
       "      <td>700.0</td>\n",
       "      <td>4800.0</td>\n",
       "    </tr>\n",
       "    <tr>\n",
       "      <th>...</th>\n",
       "      <td>...</td>\n",
       "      <td>...</td>\n",
       "      <td>...</td>\n",
       "      <td>...</td>\n",
       "      <td>...</td>\n",
       "      <td>...</td>\n",
       "      <td>...</td>\n",
       "      <td>...</td>\n",
       "      <td>...</td>\n",
       "      <td>...</td>\n",
       "      <td>...</td>\n",
       "      <td>...</td>\n",
       "      <td>...</td>\n",
       "      <td>...</td>\n",
       "      <td>...</td>\n",
       "      <td>...</td>\n",
       "      <td>...</td>\n",
       "    </tr>\n",
       "    <tr>\n",
       "      <th>1505</th>\n",
       "      <td>610902</td>\n",
       "      <td>1800.0</td>\n",
       "      <td>2120.0</td>\n",
       "      <td>2380.0</td>\n",
       "      <td>3240.0</td>\n",
       "      <td>3420.0</td>\n",
       "      <td>3600.0</td>\n",
       "      <td>3600.0</td>\n",
       "      <td>3330.0</td>\n",
       "      <td>5760.0</td>\n",
       "      <td>5160.0</td>\n",
       "      <td>4868.0</td>\n",
       "      <td>4560.0</td>\n",
       "      <td>5400.0</td>\n",
       "      <td>4800.0</td>\n",
       "      <td>4350.0</td>\n",
       "      <td>4800.0</td>\n",
       "    </tr>\n",
       "    <tr>\n",
       "      <th>1506</th>\n",
       "      <td>611402</td>\n",
       "      <td>1800.0</td>\n",
       "      <td>1920.0</td>\n",
       "      <td>2376.0</td>\n",
       "      <td>1650.0</td>\n",
       "      <td>3000.0</td>\n",
       "      <td>4200.0</td>\n",
       "      <td>3530.0</td>\n",
       "      <td>4800.0</td>\n",
       "      <td>9600.0</td>\n",
       "      <td>6000.0</td>\n",
       "      <td>4800.0</td>\n",
       "      <td>3900.0</td>\n",
       "      <td>1200.0</td>\n",
       "      <td>2280.0</td>\n",
       "      <td>2400.0</td>\n",
       "      <td>3500.0</td>\n",
       "    </tr>\n",
       "    <tr>\n",
       "      <th>1507</th>\n",
       "      <td>611702</td>\n",
       "      <td>1620.0</td>\n",
       "      <td>1776.0</td>\n",
       "      <td>600.0</td>\n",
       "      <td>3000.0</td>\n",
       "      <td>2820.0</td>\n",
       "      <td>4800.0</td>\n",
       "      <td>3600.0</td>\n",
       "      <td>4800.0</td>\n",
       "      <td>4200.0</td>\n",
       "      <td>8000.0</td>\n",
       "      <td>6000.0</td>\n",
       "      <td>6300.0</td>\n",
       "      <td>6400.0</td>\n",
       "      <td>9500.0</td>\n",
       "      <td>6000.0</td>\n",
       "      <td>7000.0</td>\n",
       "    </tr>\n",
       "    <tr>\n",
       "      <th>1508</th>\n",
       "      <td>613002</td>\n",
       "      <td>1800.0</td>\n",
       "      <td>2160.0</td>\n",
       "      <td>2376.0</td>\n",
       "      <td>1980.0</td>\n",
       "      <td>2400.0</td>\n",
       "      <td>2400.0</td>\n",
       "      <td>1800.0</td>\n",
       "      <td>1800.0</td>\n",
       "      <td>2400.0</td>\n",
       "      <td>1150.0</td>\n",
       "      <td>3120.0</td>\n",
       "      <td>3360.0</td>\n",
       "      <td>3000.0</td>\n",
       "      <td>3000.0</td>\n",
       "      <td>3240.0</td>\n",
       "      <td>3420.0</td>\n",
       "    </tr>\n",
       "    <tr>\n",
       "      <th>1509</th>\n",
       "      <td>613102</td>\n",
       "      <td>1100.0</td>\n",
       "      <td>1200.0</td>\n",
       "      <td>1320.0</td>\n",
       "      <td>1080.0</td>\n",
       "      <td>1440.0</td>\n",
       "      <td>1560.0</td>\n",
       "      <td>1920.0</td>\n",
       "      <td>1800.0</td>\n",
       "      <td>2160.0</td>\n",
       "      <td>510.0</td>\n",
       "      <td>1956.0</td>\n",
       "      <td>1400.0</td>\n",
       "      <td>2460.0</td>\n",
       "      <td>3000.0</td>\n",
       "      <td>3600.0</td>\n",
       "      <td>3360.0</td>\n",
       "    </tr>\n",
       "  </tbody>\n",
       "</table>\n",
       "<p>1510 rows × 17 columns</p>\n",
       "</div>"
      ],
      "text/plain": [
       "         pid  p061703  p071703  p081703  p091703  p101703  p111703  p121703  \\\n",
       "0        201    500.0    720.0    840.0   1080.0    960.0   1200.0   1000.0   \n",
       "1        202    600.0    648.0    660.0    660.0    660.0    684.0    610.0   \n",
       "2        401   2900.0   3800.0   3840.0   3860.0   4008.0   4008.0   3600.0   \n",
       "3        402    720.0   1000.0    500.0   2960.0   1080.0   1080.0   1200.0   \n",
       "4        902   2640.0   2760.0   2904.0   3356.0   2916.0   2950.0   3800.0   \n",
       "...      ...      ...      ...      ...      ...      ...      ...      ...   \n",
       "1505  610902   1800.0   2120.0   2380.0   3240.0   3420.0   3600.0   3600.0   \n",
       "1506  611402   1800.0   1920.0   2376.0   1650.0   3000.0   4200.0   3530.0   \n",
       "1507  611702   1620.0   1776.0    600.0   3000.0   2820.0   4800.0   3600.0   \n",
       "1508  613002   1800.0   2160.0   2376.0   1980.0   2400.0   2400.0   1800.0   \n",
       "1509  613102   1100.0   1200.0   1320.0   1080.0   1440.0   1560.0   1920.0   \n",
       "\n",
       "      p131703  p141703  p151703  p161703  p171703  p181703  p191703  p201703  \\\n",
       "0       560.0   1088.0   1032.0   1220.0   1272.0   1310.0   1190.0   1550.0   \n",
       "1       630.0    716.0    795.0    920.0    936.0    900.0   1090.0   1140.0   \n",
       "2      4800.0   5400.0   4800.0   6000.0   6000.0   6000.0   6000.0   6000.0   \n",
       "3       960.0    600.0    960.0    960.0    960.0    960.0    960.0    960.0   \n",
       "4      3600.0   4100.0   3200.0   5500.0   3400.0   5500.0   4800.0    700.0   \n",
       "...       ...      ...      ...      ...      ...      ...      ...      ...   \n",
       "1505   3330.0   5760.0   5160.0   4868.0   4560.0   5400.0   4800.0   4350.0   \n",
       "1506   4800.0   9600.0   6000.0   4800.0   3900.0   1200.0   2280.0   2400.0   \n",
       "1507   4800.0   4200.0   8000.0   6000.0   6300.0   6400.0   9500.0   6000.0   \n",
       "1508   1800.0   2400.0   1150.0   3120.0   3360.0   3000.0   3000.0   3240.0   \n",
       "1509   1800.0   2160.0    510.0   1956.0   1400.0   2460.0   3000.0   3600.0   \n",
       "\n",
       "      p211703  \n",
       "0      1550.0  \n",
       "1      1134.0  \n",
       "2      6000.0  \n",
       "3       960.0  \n",
       "4      4800.0  \n",
       "...       ...  \n",
       "1505   4800.0  \n",
       "1506   3500.0  \n",
       "1507   7000.0  \n",
       "1508   3420.0  \n",
       "1509   3360.0  \n",
       "\n",
       "[1510 rows x 17 columns]"
      ]
     },
     "execution_count": 9,
     "metadata": {},
     "output_type": "execute_result"
    }
   ],
   "source": [
    "y_income= pd.read_csv('y_income.csv')\n",
    "y_income"
   ]
  },
  {
   "cell_type": "code",
   "execution_count": 10,
   "metadata": {},
   "outputs": [],
   "source": [
    "idx_1 = []\n",
    "idx_2 = []\n",
    "idx_3 = []\n",
    "idx_4 = []\n",
    "#idx_x 는 각 클러스터에 속하는 index를 저장하기 위한 array\n",
    "for i in range(len(cl_array)):\n",
    "    if cl_array[i]==1:\n",
    "        idx_1.append(i)\n",
    "    elif cl_array[i]==2:\n",
    "        idx_2.append(i)\n",
    "    elif cl_array[i]==3:\n",
    "        idx_3.append(i)\n",
    "    else:\n",
    "        idx_4.append(i)\n",
    "cluster_1 = y_income.iloc[idx_1]\n",
    "cluster_2 = y_income.iloc[idx_2]\n",
    "cluster_3 = y_income.iloc[idx_3]\n",
    "cluster_4 = y_income.iloc[idx_4]"
   ]
  },
  {
   "cell_type": "code",
   "execution_count": 11,
   "metadata": {},
   "outputs": [
    {
     "data": {
      "text/plain": [
       "23"
      ]
     },
     "execution_count": 11,
     "metadata": {},
     "output_type": "execute_result"
    }
   ],
   "source": [
    "len(cluster_1)"
   ]
  },
  {
   "cell_type": "code",
   "execution_count": 12,
   "metadata": {},
   "outputs": [
    {
     "data": {
      "text/plain": [
       "0"
      ]
     },
     "execution_count": 12,
     "metadata": {},
     "output_type": "execute_result"
    }
   ],
   "source": [
    "#1번 집단에 속한 사람들의 pid를 가져오기 위해선\n",
    "#y_income.iloc[idx_1]['pid']\n",
    "#각 집단의 대학 졸업 체크\n",
    "k21 = pd.read_excel(\"klips21p.xlsx\")\n",
    "sample = k21.loc[:,['pid','p210110']]\n",
    "sample['pid'] = sample['pid'].astype('str')\n",
    "sample = sample.set_index('pid')\n",
    "sample['pid'] = sample.index\n",
    "\n",
    "cl1 = sample[sample['pid'].isin(y_income.iloc[idx_1]['pid'].values)]\n",
    "cl2 = sample[sample['pid'].isin(y_income.iloc[idx_2]['pid'].values)]\n",
    "cl3 = sample[sample['pid'].isin(y_income.iloc[idx_3]['pid'].values)]\n",
    "cl4 = sample[sample['pid'].isin(y_income.iloc[idx_4]['pid'].values)]\n",
    "\n",
    "cl1_5 = cl1[cl1['p210110']==5]\n",
    "len(cl1_5)"
   ]
  },
  {
   "cell_type": "code",
   "execution_count": 13,
   "metadata": {},
   "outputs": [
    {
     "ename": "NameError",
     "evalue": "name 'cluster_5' is not defined",
     "output_type": "error",
     "traceback": [
      "\u001b[1;31m---------------------------------------------------------------------------\u001b[0m",
      "\u001b[1;31mNameError\u001b[0m                                 Traceback (most recent call last)",
      "\u001b[1;32m<ipython-input-13-29b471c07713>\u001b[0m in \u001b[0;36m<module>\u001b[1;34m\u001b[0m\n\u001b[1;32m----> 1\u001b[1;33m \u001b[0mlen\u001b[0m\u001b[1;33m(\u001b[0m\u001b[0mcluster_5\u001b[0m\u001b[1;33m)\u001b[0m\u001b[1;33m\u001b[0m\u001b[1;33m\u001b[0m\u001b[0m\n\u001b[0m",
      "\u001b[1;31mNameError\u001b[0m: name 'cluster_5' is not defined"
     ]
    }
   ],
   "source": [
    "len(cluster_5)"
   ]
  },
  {
   "cell_type": "code",
   "execution_count": 109,
   "metadata": {},
   "outputs": [
    {
     "data": {
      "text/html": [
       "<div>\n",
       "<style scoped>\n",
       "    .dataframe tbody tr th:only-of-type {\n",
       "        vertical-align: middle;\n",
       "    }\n",
       "\n",
       "    .dataframe tbody tr th {\n",
       "        vertical-align: top;\n",
       "    }\n",
       "\n",
       "    .dataframe thead th {\n",
       "        text-align: right;\n",
       "    }\n",
       "</style>\n",
       "<table border=\"1\" class=\"dataframe\">\n",
       "  <thead>\n",
       "    <tr style=\"text-align: right;\">\n",
       "      <th></th>\n",
       "      <th>p210110</th>\n",
       "      <th>pid</th>\n",
       "    </tr>\n",
       "    <tr>\n",
       "      <th>pid</th>\n",
       "      <th></th>\n",
       "      <th></th>\n",
       "    </tr>\n",
       "  </thead>\n",
       "  <tbody>\n",
       "    <tr>\n",
       "      <th>15502</th>\n",
       "      <td>7</td>\n",
       "      <td>15502</td>\n",
       "    </tr>\n",
       "    <tr>\n",
       "      <th>24301</th>\n",
       "      <td>7</td>\n",
       "      <td>24301</td>\n",
       "    </tr>\n",
       "    <tr>\n",
       "      <th>30302</th>\n",
       "      <td>7</td>\n",
       "      <td>30302</td>\n",
       "    </tr>\n",
       "    <tr>\n",
       "      <th>38103</th>\n",
       "      <td>7</td>\n",
       "      <td>38103</td>\n",
       "    </tr>\n",
       "    <tr>\n",
       "      <th>43901</th>\n",
       "      <td>7</td>\n",
       "      <td>43901</td>\n",
       "    </tr>\n",
       "  </tbody>\n",
       "</table>\n",
       "</div>"
      ],
      "text/plain": [
       "       p210110    pid\n",
       "pid                  \n",
       "15502        7  15502\n",
       "24301        7  24301\n",
       "30302        7  30302\n",
       "38103        7  38103\n",
       "43901        7  43901"
      ]
     },
     "execution_count": 109,
     "metadata": {},
     "output_type": "execute_result"
    }
   ],
   "source": []
  },
  {
   "cell_type": "code",
   "execution_count": 84,
   "metadata": {},
   "outputs": [
    {
     "data": {
      "text/html": [
       "<div>\n",
       "<style scoped>\n",
       "    .dataframe tbody tr th:only-of-type {\n",
       "        vertical-align: middle;\n",
       "    }\n",
       "\n",
       "    .dataframe tbody tr th {\n",
       "        vertical-align: top;\n",
       "    }\n",
       "\n",
       "    .dataframe thead th {\n",
       "        text-align: right;\n",
       "    }\n",
       "</style>\n",
       "<table border=\"1\" class=\"dataframe\">\n",
       "  <thead>\n",
       "    <tr style=\"text-align: right;\">\n",
       "      <th></th>\n",
       "      <th>p215231</th>\n",
       "      <th>pid</th>\n",
       "    </tr>\n",
       "    <tr>\n",
       "      <th>pid</th>\n",
       "      <th></th>\n",
       "      <th></th>\n",
       "    </tr>\n",
       "  </thead>\n",
       "  <tbody>\n",
       "    <tr>\n",
       "      <th>2204</th>\n",
       "      <td>2.0</td>\n",
       "      <td>2204</td>\n",
       "    </tr>\n",
       "    <tr>\n",
       "      <th>12504</th>\n",
       "      <td>2.0</td>\n",
       "      <td>12504</td>\n",
       "    </tr>\n",
       "    <tr>\n",
       "      <th>15604</th>\n",
       "      <td>2.0</td>\n",
       "      <td>15604</td>\n",
       "    </tr>\n",
       "    <tr>\n",
       "      <th>17305</th>\n",
       "      <td>2.0</td>\n",
       "      <td>17305</td>\n",
       "    </tr>\n",
       "    <tr>\n",
       "      <th>23903</th>\n",
       "      <td>2.0</td>\n",
       "      <td>23903</td>\n",
       "    </tr>\n",
       "    <tr>\n",
       "      <th>...</th>\n",
       "      <td>...</td>\n",
       "      <td>...</td>\n",
       "    </tr>\n",
       "    <tr>\n",
       "      <th>10135702</th>\n",
       "      <td>2.0</td>\n",
       "      <td>10135702</td>\n",
       "    </tr>\n",
       "    <tr>\n",
       "      <th>10138104</th>\n",
       "      <td>2.0</td>\n",
       "      <td>10138104</td>\n",
       "    </tr>\n",
       "    <tr>\n",
       "      <th>11011502</th>\n",
       "      <td>2.0</td>\n",
       "      <td>11011502</td>\n",
       "    </tr>\n",
       "    <tr>\n",
       "      <th>11018302</th>\n",
       "      <td>2.0</td>\n",
       "      <td>11018302</td>\n",
       "    </tr>\n",
       "    <tr>\n",
       "      <th>11027702</th>\n",
       "      <td>2.0</td>\n",
       "      <td>11027702</td>\n",
       "    </tr>\n",
       "  </tbody>\n",
       "</table>\n",
       "<p>230 rows × 2 columns</p>\n",
       "</div>"
      ],
      "text/plain": [
       "          p215231       pid\n",
       "pid                        \n",
       "2204          2.0      2204\n",
       "12504         2.0     12504\n",
       "15604         2.0     15604\n",
       "17305         2.0     17305\n",
       "23903         2.0     23903\n",
       "...           ...       ...\n",
       "10135702      2.0  10135702\n",
       "10138104      2.0  10138104\n",
       "11011502      2.0  11011502\n",
       "11018302      2.0  11018302\n",
       "11027702      2.0  11027702\n",
       "\n",
       "[230 rows x 2 columns]"
      ]
     },
     "execution_count": 84,
     "metadata": {},
     "output_type": "execute_result"
    }
   ],
   "source": [
    "sample[sample['p215231']==2]"
   ]
  },
  {
   "cell_type": "code",
   "execution_count": 77,
   "metadata": {},
   "outputs": [
    {
     "data": {
      "text/plain": [
       "array(['401', '6302', '10404', '10902', '11302', '11502', '12803',\n",
       "       '14203', '17301', '19401', '20301', '21001', '26701', '30501',\n",
       "       '30502', '32802', '35304', '40001', '40101', '41502', '41801',\n",
       "       '42601', '43002', '43501', '44101', '45701', '45802', '47001',\n",
       "       '47301', '47302'], dtype=object)"
      ]
     },
     "execution_count": 77,
     "metadata": {},
     "output_type": "execute_result"
    }
   ],
   "source": [
    "y_income.iloc[idx_1]['pid'].values"
   ]
  },
  {
   "cell_type": "code",
   "execution_count": 28,
   "metadata": {},
   "outputs": [
    {
     "data": {
      "text/plain": [
       "2        401\n",
       "12      6302\n",
       "16     10404\n",
       "17     10902\n",
       "19     11302\n",
       "20     11502\n",
       "23     12803\n",
       "26     14203\n",
       "34     17301\n",
       "38     19401\n",
       "39     20301\n",
       "40     21001\n",
       "53     26701\n",
       "63     30501\n",
       "64     30502\n",
       "71     32802\n",
       "76     35304\n",
       "80     40001\n",
       "81     40101\n",
       "84     41502\n",
       "85     41801\n",
       "88     42601\n",
       "89     43002\n",
       "90     43501\n",
       "93     44101\n",
       "95     45701\n",
       "96     45802\n",
       "98     47001\n",
       "99     47301\n",
       "100    47302\n",
       "Name: pid, dtype: int64"
      ]
     },
     "execution_count": 28,
     "metadata": {},
     "output_type": "execute_result"
    }
   ],
   "source": [
    "sampley_income.iloc[idx_1]['pid']"
   ]
  },
  {
   "cell_type": "code",
   "execution_count": 13,
   "metadata": {},
   "outputs": [
    {
     "data": {
      "image/png": "[encoded data removed]",
      "text/plain": [
       "<Figure size 1080x360 with 1 Axes>"
      ]
     },
     "metadata": {},
     "output_type": "display_data"
    }
   ],
   "source": [
    "import seaborn as sns, numpy as np\n",
    "from matplotlib import pyplot as plt\n",
    "sns.set(rc={'figure.figsize':(15,5)})\n",
    "sns.distplot(cluster_1, color=\"blue\", label=\"cluster1\")\n",
    "sns.distplot(cluster_2, color=\"red\", label=\"cluster2\")\n",
    "sns.distplot(cluster_3, color=\"green\", label=\"cluster3\")\n",
    "sns.distplot(cluster_4, color='yellow', label='cluster4')\n",
    "plt.legend(title=\"clusters\")\n",
    "plt.show()"
   ]
  },
  {
   "cell_type": "code",
   "execution_count": 20,
   "metadata": {},
   "outputs": [
    {
     "data": {
      "text/plain": [
       "<matplotlib.legend.Legend at 0x2328862ce20>"
      ]
     },
     "execution_count": 20,
     "metadata": {},
     "output_type": "execute_result"
    },
    {
     "data": {
      "image/png": "[encoded data removed]",
      "text/plain": [
       "<Figure size 1080x360 with 1 Axes>"
      ]
     },
     "metadata": {},
     "output_type": "display_data"
    }
   ],
   "source": [
    "plt.plot(cluster_1.mean()[1:], label='cluster1')\n",
    "plt.plot(cluster_2.mean()[1:], label='cluster2')\n",
    "plt.plot(cluster_3.mean()[1:], label='cluster3')\n",
    "plt.plot(cluster_4.mean()[1:], label='cluster4')\n",
    "plt.legend(loc='best')"
   ]
  }
 ],
 "metadata": {
  "kernelspec": {
   "display_name": "Python 3",
   "language": "python",
   "name": "python3"
  },
  "language_info": {
   "codemirror_mode": {
    "name": "ipython",
    "version": 3
   },
   "file_extension": ".py",
   "mimetype": "text/x-python",
   "name": "python",
   "nbconvert_exporter": "python",
   "pygments_lexer": "ipython3",
   "version": "3.8.5"
  }
 },
 "nbformat": 4,
 "nbformat_minor": 4
}
